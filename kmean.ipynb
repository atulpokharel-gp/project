{
  "nbformat": 4,
  "nbformat_minor": 0,
  "metadata": {
    "colab": {
      "name": "kmean.ipynb",
      "provenance": [],
      "collapsed_sections": [],
      "authorship_tag": "ABX9TyNNhFpvEdCQCydLMztpid8W",
      "include_colab_link": true
    },
    "kernelspec": {
      "name": "python3",
      "display_name": "Python 3"
    },
    "language_info": {
      "name": "python"
    }
  },
  "cells": [
    {
      "cell_type": "markdown",
      "metadata": {
        "id": "view-in-github",
        "colab_type": "text"
      },
      "source": [
        "<a href=\"https://colab.research.google.com/github/atulpokharel-gp/project/blob/main/kmean.ipynb\" target=\"_parent\"><img src=\"https://colab.research.google.com/assets/colab-badge.svg\" alt=\"Open In Colab\"/></a>"
      ]
    },
    {
      "cell_type": "code",
      "source": [
        "!pip install pygame\n",
        "import pygame\n",
        "pygame.version.ver"
      ],
      "metadata": {
        "colab": {
          "base_uri": "https://localhost:8080/",
          "height": 174
        },
        "id": "On3NnEK3tWjT",
        "outputId": "568a539f-d6e1-45f3-e060-9a069ccfee57"
      },
      "execution_count": 26,
      "outputs": [
        {
          "output_type": "stream",
          "name": "stdout",
          "text": [
            "Looking in indexes: https://pypi.org/simple, https://us-python.pkg.dev/colab-wheels/public/simple/\n",
            "Collecting pygame\n",
            "  Downloading pygame-2.1.2-cp37-cp37m-manylinux_2_17_x86_64.manylinux2014_x86_64.whl (21.8 MB)\n",
            "\u001b[K     |████████████████████████████████| 21.8 MB 64.8 MB/s \n",
            "\u001b[?25hInstalling collected packages: pygame\n",
            "Successfully installed pygame-2.1.2\n",
            "pygame 2.1.2 (SDL 2.0.16, Python 3.7.13)\n",
            "Hello from the pygame community. https://www.pygame.org/contribute.html\n"
          ]
        },
        {
          "output_type": "execute_result",
          "data": {
            "text/plain": [
              "'2.1.2'"
            ],
            "application/vnd.google.colaboratory.intrinsic+json": {
              "type": "string"
            }
          },
          "metadata": {},
          "execution_count": 26
        }
      ]
    },
    {
      "cell_type": "code",
      "execution_count": 63,
      "metadata": {
        "colab": {
          "base_uri": "https://localhost:8080/"
        },
        "id": "2APxLRHOXACD",
        "outputId": "5e28ad8d-51d4-4fc4-fa76-63d5c06696fc"
      },
      "outputs": [
        {
          "output_type": "stream",
          "name": "stdout",
          "text": [
            "          X      Y        TIME  EVENT\n",
            "0     258.0  244.0  1653544822      1\n",
            "1     258.0  244.0  1653544822      1\n",
            "2     258.0  244.0  1653544822      1\n",
            "3     258.0  244.0  1653544822      1\n",
            "4     258.0  244.0  1653544822      1\n",
            "...     ...    ...         ...    ...\n",
            "6234  872.0  184.0  1653544954      2\n",
            "6235  536.0  100.0  1653544954      2\n",
            "6236  496.0  414.0  1653544956      2\n",
            "6237  208.0  244.0  1653544956      2\n",
            "6238  436.0   25.0  1653544956      2\n",
            "\n",
            "[6239 rows x 4 columns]\n"
          ]
        }
      ],
      "source": [
        "import numpy as np\n",
        "import matplotlib.pyplot as plt\n",
        "import os\n",
        "import seaborn as sns\n",
        "from sklearn.cluster import KMeans\n",
        "import time\n",
        "import math\n",
        "import pandas as pd\n",
        "df = pd.read_csv('/content/new_cluster_report.csv')\n",
        "print(df)\n"
      ]
    },
    {
      "cell_type": "code",
      "source": [
        "df.sort_values(by=\"TIME\")"
      ],
      "metadata": {
        "colab": {
          "base_uri": "https://localhost:8080/",
          "height": 424
        },
        "id": "9en_T-rMe1ag",
        "outputId": "2516eedd-8813-4bfd-82c6-487ecdc77461"
      },
      "execution_count": 22,
      "outputs": [
        {
          "output_type": "execute_result",
          "data": {
            "text/plain": [
              "          X      Y        TIME  EVENT\n",
              "0     258.0  244.0  1653544822      1\n",
              "31    258.0  244.0  1653544822      1\n",
              "32    258.0  244.0  1653544822      1\n",
              "33    258.0  244.0  1653544822      1\n",
              "34    258.0  244.0  1653544822      1\n",
              "...     ...    ...         ...    ...\n",
              "6196  496.0  414.0  1653544956      2\n",
              "6198  436.0   25.0  1653544956      2\n",
              "6201  496.0  414.0  1653544956      2\n",
              "6173  436.0   25.0  1653544956      2\n",
              "6238  436.0   25.0  1653544956      2\n",
              "\n",
              "[6239 rows x 4 columns]"
            ],
            "text/html": [
              "\n",
              "  <div id=\"df-d81a870f-60f0-45ab-a2a9-3a96ca65fe94\">\n",
              "    <div class=\"colab-df-container\">\n",
              "      <div>\n",
              "<style scoped>\n",
              "    .dataframe tbody tr th:only-of-type {\n",
              "        vertical-align: middle;\n",
              "    }\n",
              "\n",
              "    .dataframe tbody tr th {\n",
              "        vertical-align: top;\n",
              "    }\n",
              "\n",
              "    .dataframe thead th {\n",
              "        text-align: right;\n",
              "    }\n",
              "</style>\n",
              "<table border=\"1\" class=\"dataframe\">\n",
              "  <thead>\n",
              "    <tr style=\"text-align: right;\">\n",
              "      <th></th>\n",
              "      <th>X</th>\n",
              "      <th>Y</th>\n",
              "      <th>TIME</th>\n",
              "      <th>EVENT</th>\n",
              "    </tr>\n",
              "  </thead>\n",
              "  <tbody>\n",
              "    <tr>\n",
              "      <th>0</th>\n",
              "      <td>258.0</td>\n",
              "      <td>244.0</td>\n",
              "      <td>1653544822</td>\n",
              "      <td>1</td>\n",
              "    </tr>\n",
              "    <tr>\n",
              "      <th>31</th>\n",
              "      <td>258.0</td>\n",
              "      <td>244.0</td>\n",
              "      <td>1653544822</td>\n",
              "      <td>1</td>\n",
              "    </tr>\n",
              "    <tr>\n",
              "      <th>32</th>\n",
              "      <td>258.0</td>\n",
              "      <td>244.0</td>\n",
              "      <td>1653544822</td>\n",
              "      <td>1</td>\n",
              "    </tr>\n",
              "    <tr>\n",
              "      <th>33</th>\n",
              "      <td>258.0</td>\n",
              "      <td>244.0</td>\n",
              "      <td>1653544822</td>\n",
              "      <td>1</td>\n",
              "    </tr>\n",
              "    <tr>\n",
              "      <th>34</th>\n",
              "      <td>258.0</td>\n",
              "      <td>244.0</td>\n",
              "      <td>1653544822</td>\n",
              "      <td>1</td>\n",
              "    </tr>\n",
              "    <tr>\n",
              "      <th>...</th>\n",
              "      <td>...</td>\n",
              "      <td>...</td>\n",
              "      <td>...</td>\n",
              "      <td>...</td>\n",
              "    </tr>\n",
              "    <tr>\n",
              "      <th>6196</th>\n",
              "      <td>496.0</td>\n",
              "      <td>414.0</td>\n",
              "      <td>1653544956</td>\n",
              "      <td>2</td>\n",
              "    </tr>\n",
              "    <tr>\n",
              "      <th>6198</th>\n",
              "      <td>436.0</td>\n",
              "      <td>25.0</td>\n",
              "      <td>1653544956</td>\n",
              "      <td>2</td>\n",
              "    </tr>\n",
              "    <tr>\n",
              "      <th>6201</th>\n",
              "      <td>496.0</td>\n",
              "      <td>414.0</td>\n",
              "      <td>1653544956</td>\n",
              "      <td>2</td>\n",
              "    </tr>\n",
              "    <tr>\n",
              "      <th>6173</th>\n",
              "      <td>436.0</td>\n",
              "      <td>25.0</td>\n",
              "      <td>1653544956</td>\n",
              "      <td>2</td>\n",
              "    </tr>\n",
              "    <tr>\n",
              "      <th>6238</th>\n",
              "      <td>436.0</td>\n",
              "      <td>25.0</td>\n",
              "      <td>1653544956</td>\n",
              "      <td>2</td>\n",
              "    </tr>\n",
              "  </tbody>\n",
              "</table>\n",
              "<p>6239 rows × 4 columns</p>\n",
              "</div>\n",
              "      <button class=\"colab-df-convert\" onclick=\"convertToInteractive('df-d81a870f-60f0-45ab-a2a9-3a96ca65fe94')\"\n",
              "              title=\"Convert this dataframe to an interactive table.\"\n",
              "              style=\"display:none;\">\n",
              "        \n",
              "  <svg xmlns=\"http://www.w3.org/2000/svg\" height=\"24px\"viewBox=\"0 0 24 24\"\n",
              "       width=\"24px\">\n",
              "    <path d=\"M0 0h24v24H0V0z\" fill=\"none\"/>\n",
              "    <path d=\"M18.56 5.44l.94 2.06.94-2.06 2.06-.94-2.06-.94-.94-2.06-.94 2.06-2.06.94zm-11 1L8.5 8.5l.94-2.06 2.06-.94-2.06-.94L8.5 2.5l-.94 2.06-2.06.94zm10 10l.94 2.06.94-2.06 2.06-.94-2.06-.94-.94-2.06-.94 2.06-2.06.94z\"/><path d=\"M17.41 7.96l-1.37-1.37c-.4-.4-.92-.59-1.43-.59-.52 0-1.04.2-1.43.59L10.3 9.45l-7.72 7.72c-.78.78-.78 2.05 0 2.83L4 21.41c.39.39.9.59 1.41.59.51 0 1.02-.2 1.41-.59l7.78-7.78 2.81-2.81c.8-.78.8-2.07 0-2.86zM5.41 20L4 18.59l7.72-7.72 1.47 1.35L5.41 20z\"/>\n",
              "  </svg>\n",
              "      </button>\n",
              "      \n",
              "  <style>\n",
              "    .colab-df-container {\n",
              "      display:flex;\n",
              "      flex-wrap:wrap;\n",
              "      gap: 12px;\n",
              "    }\n",
              "\n",
              "    .colab-df-convert {\n",
              "      background-color: #E8F0FE;\n",
              "      border: none;\n",
              "      border-radius: 50%;\n",
              "      cursor: pointer;\n",
              "      display: none;\n",
              "      fill: #1967D2;\n",
              "      height: 32px;\n",
              "      padding: 0 0 0 0;\n",
              "      width: 32px;\n",
              "    }\n",
              "\n",
              "    .colab-df-convert:hover {\n",
              "      background-color: #E2EBFA;\n",
              "      box-shadow: 0px 1px 2px rgba(60, 64, 67, 0.3), 0px 1px 3px 1px rgba(60, 64, 67, 0.15);\n",
              "      fill: #174EA6;\n",
              "    }\n",
              "\n",
              "    [theme=dark] .colab-df-convert {\n",
              "      background-color: #3B4455;\n",
              "      fill: #D2E3FC;\n",
              "    }\n",
              "\n",
              "    [theme=dark] .colab-df-convert:hover {\n",
              "      background-color: #434B5C;\n",
              "      box-shadow: 0px 1px 3px 1px rgba(0, 0, 0, 0.15);\n",
              "      filter: drop-shadow(0px 1px 2px rgba(0, 0, 0, 0.3));\n",
              "      fill: #FFFFFF;\n",
              "    }\n",
              "  </style>\n",
              "\n",
              "      <script>\n",
              "        const buttonEl =\n",
              "          document.querySelector('#df-d81a870f-60f0-45ab-a2a9-3a96ca65fe94 button.colab-df-convert');\n",
              "        buttonEl.style.display =\n",
              "          google.colab.kernel.accessAllowed ? 'block' : 'none';\n",
              "\n",
              "        async function convertToInteractive(key) {\n",
              "          const element = document.querySelector('#df-d81a870f-60f0-45ab-a2a9-3a96ca65fe94');\n",
              "          const dataTable =\n",
              "            await google.colab.kernel.invokeFunction('convertToInteractive',\n",
              "                                                     [key], {});\n",
              "          if (!dataTable) return;\n",
              "\n",
              "          const docLinkHtml = 'Like what you see? Visit the ' +\n",
              "            '<a target=\"_blank\" href=https://colab.research.google.com/notebooks/data_table.ipynb>data table notebook</a>'\n",
              "            + ' to learn more about interactive tables.';\n",
              "          element.innerHTML = '';\n",
              "          dataTable['output_type'] = 'display_data';\n",
              "          await google.colab.output.renderOutput(dataTable, element);\n",
              "          const docLink = document.createElement('div');\n",
              "          docLink.innerHTML = docLinkHtml;\n",
              "          element.appendChild(docLink);\n",
              "        }\n",
              "      </script>\n",
              "    </div>\n",
              "  </div>\n",
              "  "
            ]
          },
          "metadata": {},
          "execution_count": 22
        }
      ]
    },
    {
      "cell_type": "code",
      "source": [
        "def assignment(X, centroids):\n",
        "  \n",
        "  distances = []\n",
        "  \n",
        "  for row in X.values:\n",
        "    arr = []\n",
        "    for j in centroids:\n",
        "      arr.append(\n",
        "        # use the euclidian distances\n",
        "        np.linalg.norm(row - np.array(centroids[j])) \n",
        "      )\n",
        "    arr.append(np.argmin(arr)) \n",
        "    distances.append(arr)\n",
        "          \n",
        "  return distances\n",
        "\n",
        "def update(X, centroids, distances):\n",
        "  \n",
        "  for c in centroids:\n",
        "    indicies = [distances.index(row) for row in distances if row[-1] == c]\n",
        "    \n",
        "    # update the centroids with the means of each cluster\n",
        "    centroids[c] = X.iloc[indicies].mean().values \n",
        "    \n",
        "  return centroids\n",
        "\n",
        "\n",
        "def KMeans(X, k):\n",
        "\n",
        "    # initialize random centroids\n",
        "        \n",
        "    mins = X.min().values\n",
        "    maxs = X.max().values\n",
        "    \n",
        "    centroids = {\n",
        "        i: [np.random.uniform(mins, maxs)]\n",
        "        for i in range(k)\n",
        "    }\n",
        "    \n",
        "    distances = assignment(X, centroids)    \n",
        "    \n",
        "    # iterate until assignments remain within a certain tolerance\n",
        "    while True:\n",
        "      \n",
        "      old = [x[-1] for x in distances]\n",
        "    \n",
        "      centroids = update(X, centroids, distances)\n",
        "     \n",
        "      distances = assignment(X, centroids)\n",
        "      \n",
        "      new = [x[-1] for x in distances]\n",
        "      \n",
        "      if np.allclose(old, new, 100*k, 1.0e+1):\n",
        "        break\n",
        "      \n",
        "      \n",
        "    return distances, centroids"
      ],
      "metadata": {
        "id": "7Be2v_nehfW8"
      },
      "execution_count": 3,
      "outputs": []
    },
    {
      "cell_type": "code",
      "source": [
        "# SETTING THE VALUE OF K\n",
        "k = 6\n",
        "\n",
        "start_time = time.time() # getting the current time\n",
        "dist, cent = KMeans(df, k)\n",
        "# Printing the elapsed time of selection sort using arrays as arguments\n",
        "print(\"Time taken for clustering is:\\\n",
        "      --- %s seconds ---\" % (time.time() - start_time))\n",
        "print(\"\\n\")\n",
        "\n",
        "x, y = [cent[i][0] for i in cent], [cent[i][1] for i in cent]\n",
        "\n",
        "df.plot(kind=\"scatter\", x = \"X\", y = \"Y\", alpha = 0.1,\n",
        "    s = 5, figsize = (10,7), colorbar = False,\n",
        "    c = np.array(dist)[:,-1], cmap = plt.get_cmap(\"rainbow\"),\n",
        "    sharex=False)\n",
        "\n",
        "plt.scatter(x, y, marker='X', alpha = 1.0, c = [u for u in cent], cmap = plt.get_cmap(\"rainbow\"), s = 200)\n",
        "\n",
        "#plt.imshow(cali, extent=[-124.55, -113.80, 32.45, 42.05], alpha = 0.3)\n",
        "plt.ylabel(\"X\", fontsize=14)\n",
        "plt.xlabel(\"Y\", fontsize=14)\n",
        "plt.title('K-Means Clustering')\n",
        "\n",
        "plt.show()\n"
      ],
      "metadata": {
        "colab": {
          "base_uri": "https://localhost:8080/",
          "height": 514
        },
        "id": "WbE_6TKtmnMJ",
        "outputId": "3b04ec3b-03ec-4f63-f646-9ec7f7b53c38"
      },
      "execution_count": 4,
      "outputs": [
        {
          "output_type": "stream",
          "name": "stdout",
          "text": [
            "Time taken for clustering is:      --- 1.5227892398834229 seconds ---\n",
            "\n",
            "\n"
          ]
        },
        {
          "output_type": "display_data",
          "data": {
            "text/plain": [
              "<Figure size 720x504 with 1 Axes>"
            ],
            "image/png": "[encoded data removed]"
          },
          "metadata": {
            "needs_background": "light"
          }
        }
      ]
    },
    {
      "cell_type": "markdown",
      "source": [
        "##cluster evaluation"
      ],
      "metadata": {
        "id": "qr4E8IJbpRBj"
      }
    },
    {
      "cell_type": "code",
      "source": [
        "EVENT_ACCIDENT = 1\n",
        "EVENT_STOP = 2\n",
        "CLUSTER_BOUNDARY = 100          # A cluster's radius = distance between centroid and farthest point + CUSTER_BOUNDARY\n",
        "CLUSTER_COLOR = (50, 50, 200)   # Bluish\n",
        "CLUSTER_COLOR_VAR = 50\n",
        "CLUSTER_WIDTH = 2                       # Line thickness\n",
        "CLUSTER_MOVING_AVERAGE_WEIGHT = 0.1\n",
        "BATCH_FONT_SIZE = 30\n",
        "BATCH_NAME_COLOR = (255, 255, 255) # white"
      ],
      "metadata": {
        "id": "lBslOw-ppKpR"
      },
      "execution_count": 5,
      "outputs": []
    },
    {
      "cell_type": "markdown",
      "source": [
        "##Define distance functions"
      ],
      "metadata": {
        "id": "kcY0ej2jpmE-"
      }
    },
    {
      "cell_type": "code",
      "source": [
        "def distance(x1, y1, time1, event1,\\\n",
        "                         x2, y2, time2, event2):\n",
        "  \n",
        "    return math.sqrt(distance_position(x1, y1, x2, y2)**2 +\\\n",
        "                            distance_time(time1, time2)**2 +\\\n",
        "                            distance_event(event1, event2)**2)\n",
        "\n",
        "def distance_position(x1, y1, x2, y2):\n",
        "    return math.sqrt((x1-x2)**2 + (y1-y2)**2)    \n",
        "\n",
        "def distance_time(time1, time2):\n",
        "    return math.sqrt((time1-time2)**2)\n",
        "\n",
        "def distance_event(event1, event2):\n",
        "    return math.sqrt((event1-event2)**2)"
      ],
      "metadata": {
        "id": "4snLzn1opdqg"
      },
      "execution_count": 64,
      "outputs": []
    },
    {
      "cell_type": "markdown",
      "source": [
        "##Define a Report object\n"
      ],
      "metadata": {
        "id": "dCPGwgWrpvCC"
      }
    },
    {
      "cell_type": "code",
      "source": [
        "class Report():\n",
        "    def __init__(self, reporter, x, y, event):\n",
        "        self.reporter = reporter\n",
        "        self.x = x\n",
        "        self.y = y        \n",
        "        self.time = int(time.time()) # current time in seconds        \n",
        "        self.event = event  \n",
        "        \n",
        "        "
      ],
      "metadata": {
        "id": "mSR-MJHnpzM6"
      },
      "execution_count": 31,
      "outputs": []
    },
    {
      "cell_type": "markdown",
      "source": [
        "##Define a Cluster object"
      ],
      "metadata": {
        "id": "hzuZRbq4p-qy"
      }
    },
    {
      "cell_type": "code",
      "source": [
        "class Cluster():\n",
        "    def __init__(self, pygame, report):\n",
        "        self.pygame = pygame\n",
        "        self.x = report.x\n",
        "        self.y = report.y\n",
        "        self.time = report.time\n",
        "        self.event = report.event\n",
        "        self.reports = [report]\n",
        "        self.radius = CLUSTER_BOUNDARY\n",
        "        self.max_distance = 0\n",
        "        self.color = report.reporter.color\n",
        "        self.color = (CLUSTER_COLOR[0]+random.randrange(-CLUSTER_COLOR_VAR,CLUSTER_COLOR_VAR),\n",
        "                      CLUSTER_COLOR[1]+random.randrange(-CLUSTER_COLOR_VAR,CLUSTER_COLOR_VAR),\n",
        "                       CLUSTER_COLOR[2]+random.randrange(-CLUSTER_COLOR_VAR,CLUSTER_COLOR_VAR))\n",
        "        \n",
        "    def distance(self, report): \n",
        "        return distance(self.x, self.y, self.time, self.event,\\\n",
        "                         report.x, report.y,  report.time, report.event)\n",
        "\n",
        "    def insert(self, report): # function to insert report to a cluster\n",
        "\n",
        "        # Insert the new report into the report list\n",
        "        self.reports.append(report)\n",
        "\n",
        "        '''\n",
        "        Method #1: Centroid is a weighted moving average of reports\n",
        "                Compared to having a fixed centroid,\n",
        "                            this way is better to differentiate accidents in one direction\n",
        "                                                                                    vs. those that affect both directions\n",
        "        '''\n",
        "        '''\n",
        "        # Update centroid as a weighted moving average of reports\n",
        "        self.x = self.x * (1 - CLUSTER_MOVING_AVERAGE_WEIGHT)\\\n",
        "                         + report.x * CLUSTER_MOVING_AVERAGE_WEIGHT\n",
        "        self.y = self.y * (1 - CLUSTER_MOVING_AVERAGE_WEIGHT)\\\n",
        "                         + report.y * CLUSTER_MOVING_AVERAGE_WEIGHT\n",
        "        self.time = self.time * (1 - CLUSTER_MOVING_AVERAGE_WEIGHT)\\\n",
        "                         + report.time * CLUSTER_MOVING_AVERAGE_WEIGHT         \n",
        "        self.event = self.event * (1 - CLUSTER_MOVING_AVERAGE_WEIGHT)\\\n",
        "                         + report.event * CLUSTER_MOVING_AVERAGE_WEIGHT\n",
        "\n",
        "        # Update radius        \n",
        "        max_distance = 0\n",
        "        for r in self.reports:\n",
        "            distance = self.distance(r)\n",
        "            if max_distance < distance:\n",
        "                max_distance = distance\n",
        "        self.radius = max_distance + CLUSTER_BOUNDARY\n",
        "        '''\n",
        "        '''\n",
        "        Method #2: X/Y of centroid remains at the position of the initial report\n",
        "        '''\n",
        "        '''\n",
        "        # Update only the time of centroid\n",
        "        self.time = report.time\n",
        "\n",
        "        # Update radius\n",
        "        distance = self.distance(report)\n",
        "        if (distance  > self.max_distance):\n",
        "            self.max_distance = distance\n",
        "            self.radius = self.max_distance + CLUSTER_BOUNDARY\n",
        "        '''\n",
        "        \n",
        "        '''\n",
        "        Method #3: Centroid is updated upon every new report\n",
        "        '''\n",
        "        \n",
        "        # Update centroid as the average of all reports in the cluster\n",
        "        n = len(self.reports) - 1\n",
        "        n_new = len(self.reports)\n",
        "        self.x = (self.x * n + report.x) / n_new\n",
        "        self.y = (self.y * n + report.y) / n_new\n",
        "        self.time = (self.time * n + report.time) / n_new\n",
        "        self.event = (self.event * n + report.event) / n_new\n",
        "\n",
        "        # Update radius # boundary\n",
        "        max_distance = 0\n",
        "        for r in self.reports:\n",
        "            distance = self.distance(r)\n",
        "            if max_distance < distance:\n",
        "                max_distance = distance\n",
        "        self.radius = max_distance + CLUSTER_BOUNDARY\n",
        "        \n",
        "        \n",
        "    def include_report(self, report):\n",
        "        distance_to_report = self.distance(report)\n",
        "        return (distance_to_report <= self.radius, distance_to_report)\n",
        "\n",
        "    def include_cluster(self, cluster):\n",
        "        distance_to_cluster = distance(self.x, self.y, self.time, self.event,\\\n",
        "                         cluster.x, cluster.y, cluster.time, cluster.event)\n",
        "        return distance_to_cluster <= self.radius\n",
        "\n",
        "    def combine_with(self, cluster):\n",
        "        # Extend report list\n",
        "        self.reports.extend(cluster.reports)\n",
        "\n",
        "        # Update x, y, time, and event as the average of all reports\n",
        "        self.x = 0\n",
        "        self.y = 0\n",
        "        self.time = 0\n",
        "        self.event = 0\n",
        "        for report in self.reports:\n",
        "            self.x += report.x\n",
        "            self.y += report.y\n",
        "            self.time += report.time\n",
        "            self.event += report.event\n",
        "        self.x = self.x / len(self.reports)\n",
        "        self.y = self.y / len(self.reports)\n",
        "        self.time = self.time / len(self.reports)\n",
        "        self.event = self.event / len(self.reports)        \n",
        "        # Update radius\n",
        "        max_distance = 0\n",
        "        for report in self.reports:\n",
        "            distance = self.distance(report)\n",
        "            if max_distance < distance:\n",
        "                max_distance = distance\n",
        "        self.radius = max_distance + CLUSTER_BOUNDARY\n",
        "\n",
        "        # Update color with the average color of two clusters\n",
        "        self.color = (int((self.color[0]+cluster.color[0])/2), int((self.color[1]+cluster.color[1])/2), int((self.color[2]+cluster.color[2])/2))\n",
        "        \n",
        "    def paint_on(self, screen):\n",
        "        if len(self.reports) <= 10: # Show only significant clusters and exclude those with temporary congestion\n",
        "            return\n",
        "\n",
        "        # Draw a circle that represents this cluster\n",
        "        self.pygame.draw.circle(screen, self.color, [self.x,self.y], self.radius, CLUSTER_WIDTH)\n",
        "\n",
        "        # Show the number of reports that belong to this cluster\n",
        "        font_report_num = self.pygame.font.SysFont(None, min(len(self.reports)+20,100))        \n",
        "        report_num = font_report_num.render(str(len(self.reports)), True, self.color)\n",
        "        screen.blit(report_num, (self.x, self.y))  \n",
        "        \n",
        "    def report_list(self, report): # returns list of reports\n",
        "       return(report.Report(x))\n"
      ],
      "metadata": {
        "id": "fdBzI7WWqB-_"
      },
      "execution_count": 65,
      "outputs": []
    },
    {
      "cell_type": "code",
      "source": [
        "print(x)"
      ],
      "metadata": {
        "colab": {
          "base_uri": "https://localhost:8080/"
        },
        "id": "RdIlX4ctByNJ",
        "outputId": "6d425d44-e2f1-453d-f73f-c9c629483878"
      },
      "execution_count": 82,
      "outputs": [
        {
          "output_type": "stream",
          "name": "stdout",
          "text": [
            "[549.30994148772, 350.54394976182215, 499.72021408869, nan, 871.3098208136892, nan]\n"
          ]
        }
      ]
    },
    {
      "cell_type": "markdown",
      "source": [
        "##Define a batch object"
      ],
      "metadata": {
        "id": "m-2IlIyPqYlH"
      }
    },
    {
      "cell_type": "code",
      "source": [
        "class Batch():\n",
        "    def __init__(self, pygame, batch_num, time_batch):\n",
        "        self.pygame = pygame\n",
        "        self.report_queue = []\n",
        "        self.cluster_list = []\n",
        "        self.batch_num = batch_num\n",
        "        self.font_batch_num = pygame.font.SysFont(None, BATCH_FONT_SIZE)        \n",
        "        self.begin_time = pygame.time.get_ticks()    # get time in milliseconds since pygame.init() was called\n",
        "        self.end_time = self.begin_time + time_batch\n",
        "        self.time_batch = time_batch\n",
        "        \n",
        "    def paint_on(self, screen):\n",
        "        remaining_time = int((self.end_time - self.pygame.time.get_ticks())/1000) + 1        \n",
        "        batch_num_object = self.font_batch_num.render(\"batch #\" + str(self.batch_num) + \" (\" + str(remaining_time) + \"/\" + str(int(self.time_batch/1000)) + \" secs remain)\", True, BATCH_NAME_COLOR)\n",
        "        screen.blit(batch_num_object, (0,0))\n",
        "        for cluster in self.cluster_list:\n",
        "            cluster.paint_on(screen)\n",
        "\n",
        "    def report(self, car, event):\n",
        "        self.report_queue.append(Report(car, car.rect.centerx, car.rect.centery, car.lane, event))\n",
        "        #return Report(car, car.rect.centerx, car.rect.centery, car.lane, event) # i added\n",
        "    #def report_list(self, car, event):\n",
        "        #return Report()\n",
        "    def process_reports(self):    \n",
        "        for report in self.report_queue:\n",
        "            min_distance = math.inf\n",
        "            nearest_cluster = None\n",
        "            for cluster in self.cluster_list:\n",
        "                include, distance = cluster.include_report(report)\n",
        "                if include and (distance < min_distance):\n",
        "                    nearest_cluster = cluster\n",
        "                    min_distance = distance\n",
        "                    \n",
        "            if nearest_cluster != None:\n",
        "                # If a nearest cluster exists, push the report into the cluster\n",
        "                nearest_cluster.insert(report)\n",
        "            else:\n",
        "                # Otherwise, create a new cluster with the report\n",
        "                self.cluster_list.append(Cluster(self.pygame, report))\n",
        "                self.report_queue.clear('nan')\n",
        "                self.combine_clusters()  \n",
        "                # callingcombinecluster()\n"
      ],
      "metadata": {
        "id": "8cF_u28iqaJk"
      },
      "execution_count": 102,
      "outputs": []
    },
    {
      "cell_type": "code",
      "source": [
        "def combine_clusters(self):\n",
        " for cluster in self.cluster_list:\n",
        "     cluster.combined = False      \n",
        " for i in range(0, len(self.cluster_list)-2):\n",
        "     c1 = self.cluster_list[i]\n",
        "     if c1.combined:\n",
        "       continue            \n",
        "     for j in range(i+1, len(self.cluster_list)-1):\n",
        "       c2 = self.cluster_list[j]\n",
        "       if c2.combined:\n",
        "         continue                \n",
        "       if c1.include_cluster(c2) or c2.include_cluster(c1):\n",
        "         c1.combine_with(c2)\n",
        "         c2.combined = True\n",
        "         print(\"two clusters combined\")\n",
        "                    \n",
        "     new_cluster_list = []\n",
        "     for cluster in self.cluster_list:\n",
        "        if not cluster.combined:\n",
        "          new_cluster_list.append(cluster)\n",
        "     self.cluster_list = new_cluster_list\n",
        " "
      ],
      "metadata": {
        "id": "nvbiDHq0v1EF"
      },
      "execution_count": 106,
      "outputs": []
    },
    {
      "cell_type": "markdown",
      "source": [
        "##NEW self clusters "
      ],
      "metadata": {
        "id": "VpdoJEhN9ish"
      }
    },
    {
      "cell_type": "code",
      "source": [
        "from sklearn.decomposition import PCA\n",
        "from IPython import display\n",
        "import matplotlib.cm as cm\n",
        "from matplotlib.pyplot import savefig\n",
        "#%matplotlib inline\n",
        "from sklearn.preprocessing import StandardScaler\n",
        "from sklearn.cluster import KMeans\n",
        "from itertools import cycle, islice\n",
        "from pandas.plotting import parallel_coordinates"
      ],
      "metadata": {
        "id": "c0pv4w0d7Ze3"
      },
      "execution_count": 46,
      "outputs": []
    },
    {
      "cell_type": "code",
      "source": [
        "data = pd.read_csv('/content/new_cluster_report.csv')"
      ],
      "metadata": {
        "id": "WhvrUGPx9aSm"
      },
      "execution_count": 47,
      "outputs": []
    },
    {
      "cell_type": "code",
      "source": [
        "print(data.info())"
      ],
      "metadata": {
        "colab": {
          "base_uri": "https://localhost:8080/"
        },
        "id": "2ST_Fwyk9aRU",
        "outputId": "9e5c8966-3e92-4337-e8f3-94379e11b9a3"
      },
      "execution_count": 48,
      "outputs": [
        {
          "output_type": "stream",
          "name": "stdout",
          "text": [
            "<class 'pandas.core.frame.DataFrame'>\n",
            "RangeIndex: 6239 entries, 0 to 6238\n",
            "Data columns (total 4 columns):\n",
            " #   Column  Non-Null Count  Dtype  \n",
            "---  ------  --------------  -----  \n",
            " 0   X       6239 non-null   float64\n",
            " 1   Y       6239 non-null   float64\n",
            " 2   TIME    6239 non-null   int64  \n",
            " 3   EVENT   6239 non-null   int64  \n",
            "dtypes: float64(2), int64(2)\n",
            "memory usage: 195.1 KB\n",
            "None\n"
          ]
        }
      ]
    },
    {
      "cell_type": "code",
      "source": [
        "features = ['X','Y','TIME']\n",
        "select_df = data[features]\n",
        "print(select_df.columns)"
      ],
      "metadata": {
        "colab": {
          "base_uri": "https://localhost:8080/"
        },
        "id": "FkIe8OO09zCD",
        "outputId": "ac16776c-5f2e-4f2a-d4f4-c20bc484e46c"
      },
      "execution_count": 49,
      "outputs": [
        {
          "output_type": "stream",
          "name": "stdout",
          "text": [
            "Index(['X', 'Y', 'TIME'], dtype='object')\n"
          ]
        }
      ]
    },
    {
      "cell_type": "code",
      "source": [
        "X = StandardScaler().fit_transform(select_df)"
      ],
      "metadata": {
        "id": "_mU6SMfO-Bz_"
      },
      "execution_count": 50,
      "outputs": []
    },
    {
      "cell_type": "markdown",
      "source": [
        "K-Mean\n"
      ],
      "metadata": {
        "id": "wG4c0uG9-MOi"
      }
    },
    {
      "cell_type": "code",
      "source": [
        "def KMeans(X, K, maxIters=10):\n",
        " \n",
        "    centroids = X[np.random.choice(np.arange(len(X)), K), :]\n",
        "    for i in range(maxIters):\n",
        "        # Cluster Assignment step\n",
        "        C = np.array([np.argmin([np.dot(x_i - y_k, x_i - y_k)\n",
        "                                 for y_k in centroids]) for x_i in X])\n",
        "        # Move centroids step\n",
        "        centroids = [X[C == k].mean(axis=0) for k in range(K)]\n",
        "    return np.array(centroids), C\n",
        "\n",
        "# test KMeans algorithm\n",
        "\n",
        "centroids, C = KMeans(X, 3, 100)\n",
        "\n",
        "pca = PCA(2)\n",
        "X_pca = pca.fit_transform(X)\n",
        "X_pca.shape"
      ],
      "metadata": {
        "colab": {
          "base_uri": "https://localhost:8080/"
        },
        "id": "CUnVA8RH-D7Q",
        "outputId": "c4608f73-1f6c-4bbd-8238-eb73fc7ebbe8"
      },
      "execution_count": 86,
      "outputs": [
        {
          "output_type": "execute_result",
          "data": {
            "text/plain": [
              "(6239, 2)"
            ]
          },
          "metadata": {},
          "execution_count": 86
        }
      ]
    },
    {
      "cell_type": "code",
      "source": [
        "start_time = time.time()\n",
        "\n",
        "K_Means = KMeans(X, 3, 100)\n",
        "\n",
        "\n",
        "print(\"Time taken for clustering using online k-means is:\\\n",
        "      --- %s seconds ---\" % (time.time() - start_time))\n",
        "print(\"\\n\")"
      ],
      "metadata": {
        "colab": {
          "base_uri": "https://localhost:8080/"
        },
        "id": "_NNSAs35_pHW",
        "outputId": "f04e85a1-d821-49bc-b959-c30d1323f60d"
      },
      "execution_count": 87,
      "outputs": [
        {
          "output_type": "stream",
          "name": "stdout",
          "text": [
            "Time taken for clustering using online k-means is:      --- 9.509020328521729 seconds ---\n",
            "\n",
            "\n"
          ]
        }
      ]
    },
    {
      "cell_type": "code",
      "source": [
        "plt.scatter(X_pca[:,0], X_pca[:, 1], c=C)"
      ],
      "metadata": {
        "colab": {
          "base_uri": "https://localhost:8080/",
          "height": 282
        },
        "id": "374iwc_y-qmV",
        "outputId": "08c8248d-e2c8-442f-8288-abb5a3d49c4c"
      },
      "execution_count": 88,
      "outputs": [
        {
          "output_type": "execute_result",
          "data": {
            "text/plain": [
              "<matplotlib.collections.PathCollection at 0x7f46cf29d550>"
            ]
          },
          "metadata": {},
          "execution_count": 88
        },
        {
          "output_type": "display_data",
          "data": {
            "text/plain": [
              "<Figure size 432x288 with 1 Axes>"
            ],
            "image/png": "[encoded data removed]"
          },
          "metadata": {
            "needs_background": "light"
          }
        }
      ]
    },
    {
      "cell_type": "markdown",
      "source": [
        "SELF_K_MEAN"
      ],
      "metadata": {
        "id": "zYHzYBDF-xjB"
      }
    },
    {
      "cell_type": "code",
      "source": [
        "class OnlineKMeans:\n",
        "\n",
        "    def __init__(self, X, K=6, window_size=np.inf, plot_progress=False, add_remove=False,\n",
        "                 threshold_create=np.inf, threshold_remove=np.inf, cold_start=False):\n",
        "        self.X = X\n",
        "        self.K = K\n",
        "        self.window_size = window_size\n",
        "        self.plot_progress = plot_progress\n",
        "        self._nsamples = X.shape[0]\n",
        "        self._dim = X.shape[1]\n",
        "        self._eps = 1e-3\n",
        "        self.threshold_create = threshold_create\n",
        "        self.threshold_remove = threshold_remove\n",
        "        self.add_remove = add_remove\n",
        "        self.cold_start = cold_start\n",
        "        plt.figure(figsize=(15, 4))\n",
        "\n",
        "        if self._nsamples < K:\n",
        "            print(\"Error\")\n",
        "\n",
        "    def _plot_progress(self, c, centroids):\n",
        "        pca = PCA(2)\n",
        "        pca.fit(self._X_norm)\n",
        "        X_pca = pca.transform(self._X_norm)\n",
        "\n",
        "        centroids_ = [centroids[i]\n",
        "                      for i in range(len(centroids)) if i not in self._infidx]\n",
        "        centroids_pca = pca.transform(centroids_)\n",
        "\n",
        "        plt.clf()\n",
        "\n",
        "        plt.subplot(121)\n",
        "        plt.title('Online clustering progress')\n",
        "\n",
        "        colors = cm.rainbow([0.2 * i for i in range(self.K)]).tolist()\n",
        "        map_colors = [colors[k] for k in c]\n",
        "        plt.scatter(X_pca[:, 0], X_pca[:, 1], c=map_colors)\n",
        "        plt.scatter(centroids_pca[:, 0],\n",
        "                    centroids_pca[:, 1], color='black', marker='x')\n",
        "\n",
        "        plt.subplot(122)\n",
        "        plt.title('Average distance from the centroid')\n",
        "        plt.ylim(ymax=12)\n",
        "\n",
        "        max_dim = np.max([len(self._mean_dist[i])\n",
        "                          for i in range(len(self._mean_dist))])\n",
        "\n",
        "        for i in range(len(self._mean_dist)):\n",
        "            self._mean_dist[i].extend(\n",
        "                [0] * (max_dim - len(self._mean_dist[i])))\n",
        "\n",
        "        for k in range(self.K):\n",
        "            plt.plot(np.array(self._mean_dist)[\n",
        "                     :, k], color=colors[k], label='cluster ' + str(k))\n",
        "\n",
        "        plt.legend()\n",
        "\n",
        "        display.display(plt.gcf())\n",
        "        display.clear_output(wait=True)\n",
        "        plt.savefig('imagen.pdf')\n",
        "\n",
        "    def data_stream(self):\n",
        "        \"\"\"\n",
        "        Simulate data streaming\n",
        "        \"\"\"\n",
        "        yield from self.X\n",
        "\n",
        "    def distance(self, x, y, method='euclidean'):\n",
        "        if method is 'euclidean':\n",
        "            return np.sqrt(np.dot(x - y, x - y))\n",
        "        else:\n",
        "            print('%s distance unknown' % method)\n",
        "\n",
        "    def update_centroids(self, gamma, data_point, centroid):\n",
        "        return (centroid + gamma * (data_point - centroid))\n",
        "\n",
        "    def add_cluster(self):\n",
        "        self.K += 1\n",
        "\n",
        "    def run(self, max_iter=100):\n",
        "        \n",
        "        stream = self.data_stream()\n",
        "        C = list(range(self.K))\n",
        "        \n",
        "        if self.cold_start:\n",
        "            centroids = np.random.multivariate_normal(np.zeros(self._dim), np.eye(self._dim), self.K)            \n",
        "            init = 0\n",
        "            \n",
        "        else:\n",
        "            centroids = np.array([next(stream) for _ in range(self.K)])\n",
        "            init = self.K\n",
        "        \n",
        "        \n",
        "        # To normalize data on the fly\n",
        "        mean = np.mean(centroids, axis=0)\n",
        "        sigma = np.std(centroids, axis=0)\n",
        "        centroids = (centroids - mean) / (sigma + self._eps)\n",
        "\n",
        "        # auxiliary vectors only for plotting purposes\n",
        "        self._X_norm = list(centroids)\n",
        "        self._mean_dist = [[0] * self.K]\n",
        "        self._infidx = []\n",
        "\n",
        "        for t in range(init, min(self._nsamples, max_iter)):\n",
        "            p = next(stream)\n",
        "\n",
        "            mean_new = (t * mean + p) / (t + 1)\n",
        "            sigma_new = np.sqrt(\n",
        "                (sigma**2 * t + (p - mean) * (p - mean_new)) / (t + 1))\n",
        "\n",
        "            normalized_p = (p - mean_new) / (sigma_new + self._eps)\n",
        "            centroids = (centroids * sigma + mean - mean_new) / (sigma_new + self._eps)\n",
        "\n",
        "            if self.add_remove:\n",
        "                idx = np.argmin([self.distance(normalized_p, c)\n",
        "                                 for c in centroids])\n",
        "\n",
        "                # Condition to add a new cluster\n",
        "                if self.distance(normalized_p, centroids[idx]) > self.threshold_create:\n",
        "                    C.append(self.K)\n",
        "                    self.add_cluster()\n",
        "                    centroids = np.append(centroids, [normalized_p], axis=0)\n",
        "\n",
        "                # Condition to remove cluster\n",
        "                else:\n",
        "                    while t - np.max(np.where(C == idx)) > self.threshold_remove:\n",
        "                        centroids[idx] = np.inf * np.ones(self._dim)\n",
        "                        self._infidx.append(idx)\n",
        "                        idx = np.argmin([self.distance(normalized_p, c)\n",
        "                                         for c in centroids])\n",
        "\n",
        "                    C.append(\n",
        "                        np.argmin([self.distance(normalized_p, c) for c in centroids]))\n",
        "\n",
        "                    if self.window_size < t:\n",
        "                        centroids[C[-1]] = self.update_centroids(1 / self.window_size,\n",
        "                                                                 normalized_p, centroids[C[-1]])\n",
        "\n",
        "                    else:\n",
        "                        centroids[C[-1]] = self.update_centroids(1 / (t+1),\n",
        "                                                                 normalized_p, centroids[C[-1]])\n",
        "\n",
        "            else:\n",
        "                C.append(\n",
        "                    np.argmin([self.distance(normalized_p, c) for c in centroids]))\n",
        "\n",
        "                if self.window_size < t:\n",
        "                    centroids[C[-1]] = self.update_centroids(1 / self.window_size,\n",
        "                                                             normalized_p, centroids[C[-1]])\n",
        "                else:\n",
        "                    centroids[C[-1]] = self.update_centroids(1 / (t+1),\n",
        "                                                             normalized_p, centroids[C[-1]])\n",
        "\n",
        "            # Update mean and sigma\n",
        "            mean = mean_new\n",
        "            sigma = sigma_new\n",
        "                    \n",
        "            # We save the normalized points and mean distance only for plotting purposes\n",
        "            self._X_norm.append(normalized_p)\n",
        "            self._mean_dist.append([np.mean([self.distance(\n",
        "                p, centroids[k]) for p in self._X_norm[C == k]], axis=0) for k in range(self.K)])\n",
        "\n",
        "            if self.plot_progress:\n",
        "                self._plot_progress(C, centroids)\n",
        "\n",
        "        return np.array(centroids), C\n",
        "\n",
        "#getting current time\n",
        "start_time = time.time()\n",
        "\n",
        "online_kmeans = OnlineKMeans(X, 4, plot_progress=True,\n",
        "                            add_remove=True, cold_start=True)\n",
        "\n",
        "centroids, c = online_kmeans.run(max_iter=100)\n",
        "print(\"Time taken for clustering using online k-means is:\\\n",
        "      --- %s seconds ---\" % (time.time() - start_time))\n",
        "print(\"\\n\")"
      ],
      "metadata": {
        "colab": {
          "base_uri": "https://localhost:8080/",
          "height": 333
        },
        "id": "9WZs84Xv-0NF",
        "outputId": "a6dc4a97-410a-4ced-c85c-98d92700354c"
      },
      "execution_count": 73,
      "outputs": [
        {
          "output_type": "stream",
          "name": "stdout",
          "text": [
            "Time taken for clustering using online k-means is:      --- 53.080726861953735 seconds ---\n",
            "\n",
            "\n"
          ]
        },
        {
          "output_type": "display_data",
          "data": {
            "text/plain": [
              "<Figure size 1080x288 with 2 Axes>"
            ],
            "image/png": "[encoded data removed]"
          },
          "metadata": {
            "needs_background": "light"
          }
        }
      ]
    },
    {
      "cell_type": "code",
      "source": [
        "def k_means(data, k, threshhold=200):\n",
        "    n = np.size(data, 0)\n",
        "    # random initial assignment of clusters\n",
        "    cluster_centers = np.random.choice(range(0, n), k)\n",
        "    clustering = np.random.randint(0, k, n)\n",
        "    cluster_means = data[cluster_centers]\n",
        "    old_clustering = np.zeros(n)\n",
        "    # while the clustering has not converged ... \n",
        "    while np.sum(clustering != old_clustering) > threshhold:\n",
        "        # print np.sum(clustering != old_clustering)\n",
        "        old_clustering = clustering\n",
        "\n",
        "        # step 1: Assign points to clusters\n",
        "        cluster_distances = np.zeros((n, k))\n",
        "        for cluster in range(k):\n",
        "            cluster_distances[:, cluster] = np.sum(np.sqrt((data - cluster_means[cluster])**2), 1)\n",
        "        clustering = np.argmin(cluster_distances, 1)\n",
        "\n",
        "        # step 2: re-calculating means\n",
        "        # cluster_means should be a k x d array\n",
        "        cluster_means = np.array([np.mean(data[clustering==c],0) for c in range(k)])\n",
        "    return clustering\n",
        "\n",
        "def k_means_update(point, k, cluster_means, cluster_counts):\n",
        "  \n",
        "    cluster_distances = np.zeros(k)\n",
        "    for cluster in range(k):\n",
        "        cluster_distances[cluster] = sum(np.sqrt((point - cluster_means[cluster])**2))\n",
        "    c = np.argmin(cluster_distances)\n",
        "    cluster_counts[c] += 1\n",
        "    cluster_means[c] += 1.0/cluster_counts[c]*(point - cluster_means[c])\n",
        "    return c"
      ],
      "metadata": {
        "id": "00ChBOMSCu30"
      },
      "execution_count": 90,
      "outputs": []
    },
    {
      "cell_type": "code",
      "source": [
        "print(c)"
      ],
      "metadata": {
        "colab": {
          "base_uri": "https://localhost:8080/"
        },
        "id": "MnZ6YQ04DcB-",
        "outputId": "6fa9e59c-00eb-4c9f-90dd-862642940b78"
      },
      "execution_count": 91,
      "outputs": [
        {
          "output_type": "stream",
          "name": "stdout",
          "text": [
            "[0, 1, 2, 3, 0, 0, 0, 0, 0, 0, 0, 0, 0, 0, 0, 0, 0, 0, 0, 0, 0, 0, 0, 0, 0, 0, 0, 0, 0, 0, 0, 0, 0, 0, 0, 0, 0, 0, 0, 0, 0, 0, 0, 0, 0, 0, 0, 0, 1, 0, 1, 0, 1, 0, 1, 0, 1, 0, 1, 0, 1, 0, 1, 0, 1, 0, 1, 0, 1, 0, 1, 0, 1, 0, 1, 0, 0, 0, 0, 0, 0, 0, 0, 0, 0, 0, 0, 0, 0, 0, 0, 0, 0, 0, 0, 0, 0, 0, 0, 0, 0, 0, 0, 0]\n"
          ]
        }
      ]
    },
    {
      "cell_type": "code",
      "source": [
        ""
      ],
      "metadata": {
        "id": "pRdtT078F619"
      },
      "execution_count": null,
      "outputs": []
    }
  ]
}